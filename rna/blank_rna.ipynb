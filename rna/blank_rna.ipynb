{
 "cells": [
  {
   "cell_type": "markdown",
   "metadata": {},
   "source": [
    "# [Transcribing DNA into RNA](http://rosalind.info/problems/rna/)\n",
    "\n",
    "This notebook contains the code to complete the [Rosalind](rosalind.info) activity [\"Transcribing DNA into RNA\"](http://rosalind.info/problems/rna/) (with some modifications...)\n",
    "\n",
    "*Please add your names here*"
   ]
  },
  {
   "cell_type": "markdown",
   "metadata": {},
   "source": [
    "## Biology background - the central dogma \n",
    "\n",
    "The central dogma explains how information flows from the genes in your genome to the proteins which do the majority of the \"work\" in your body. \n",
    "The central dogma is **DNA -> RNA (via *transcription*) -> protein (via *translation*)**. \n",
    "\n",
    "While DNA exists almost exclusively in the nuclueus of eukaryotic cells, a special kind of RNA, messenger RNA or mRNA, can leave the nucleus and go into the cytoplasm of the cell. The process of copying the information stored in the DNA into RNA is called transcription. \n",
    "\n",
    "DNA and RNA both made of a nucleic acids but the composition is slighly different. DNA is made up of **adenine** (A), **guanine** (G), **cytosine** (C), and ***thymine*** (T) while RNA is made up of **adenine** (A), **guanine** (G), **cytosine** (C), and ***uracil*** (U). Furthermore, mRNA is the *reverse complement* of DNA. This means, that the mRNA contains the Watson-Crick pair of the DNA (A-T, G-C). \n",
    "\n",
    "When we put this all together, the mRNA is the reverse complement of the DNA, except for whatever would be T's in the mRNA are actually U's. So for example, a DNA sequence `GATG` would be transcribed into a RNA sequence `CUAC`. \n",
    "\n",
    "\n",
    "You can read more about transcription on the [Rosalind](rosalind.info) site [\"Transcribing DNA into RNA\"](http://rosalind.info/problems/rna/)."
   ]
  },
  {
   "cell_type": "markdown",
   "metadata": {},
   "source": [
    "# Problem\n",
    "\n",
    "Given a `file` containing a DNA sequence: \n",
    "1. read in the `file`\n",
    "2. \"transcribe\" the DNA\n",
    "3. `print` the resulting RNA.  \n",
    "\n",
    "**Example**   \n",
    "The file `test_dna.txt` has the sequence `GATGGAACTTGACTACGTAAATT` (try to read in the file using `python` instead of just copying and pasting...). Return the RNA sequence."
   ]
  },
  {
   "cell_type": "markdown",
   "metadata": {},
   "source": [
    "## About [`jupyter notebooks`](http://jupyter.org/)\n",
    "\n",
    "Right now you are coding in what is called a [`jupyter notebook`](http://jupyter.org/). [`jupyter notebook`](http://jupyter.org/)s are great because they allow you to see the output of the code right underneath the code itself. \n",
    "\n",
    "### Here are some tips and trips for using [`jupyter notebook`](http://jupyter.org/)s. \n",
    "\n",
    "1. You run a cell by either hitting `cmd-enter` or the \"`>| Run`\" button at the top of the screen. \n",
    "2. There are two types of cells: Code and Markdown. This cell is a Markdown cell because it does not contain code, only plain text. \n",
    "3. You can check what type of cell you have highlighted by looking at the third button from the right above. \n",
    "4. You can what type of cell by clicking on the third button from the right above and choosing either Markdown or Code"
   ]
  },
  {
   "cell_type": "markdown",
   "metadata": {},
   "source": [
    "# Code"
   ]
  },
  {
   "cell_type": "code",
   "execution_count": 27,
   "metadata": {},
   "outputs": [],
   "source": [
    "## Code \n",
    "# read in the data from \"test_dna.txt\" \n",
    "# see hint below for how to read in from a file"
   ]
  },
  {
   "cell_type": "markdown",
   "metadata": {},
   "source": [
    "# Bonus: Translation \n",
    "Can you write a script to *translate* your mRNA into protein? I've included a codon-to-amino-acid dictionary below"
   ]
  },
  {
   "cell_type": "code",
   "execution_count": 26,
   "metadata": {},
   "outputs": [],
   "source": [
    "codons = {\"UUU\" : \"F\",\"CUU\" : \"L\",\"AUU\" : \"I\",\"GUU\" : \"V\",\"UUC\" : \"F\",\"CUC\" : \"L\",\"AUC\" : \"I\",\"GUC\" : \"V\",\"UUA\" : \"L\",\n",
    "          \"CUA\" : \"L\",\"AUA\" : \"I\",\"GUA\" : \"V\",\"UUG\" : \"L\",\"CUG\" : \"L\",\"AUG\" : \"M\",\"GUG\" : \"V\",\"UCU\" : \"S\",\"CCU\" : \"P\",\n",
    "          \"ACU\" : \"T\",\"GCU\" : \"A\",\"UCC\" : \"S\",\"CCC\" : \"P\",\"ACC\" : \"T\",\"GCC\" : \"A\",\"UCA\" : \"S\",\"CCA\" : \"P\",\"ACA\" : \"T\",\n",
    "          \"GCA\" : \"A\",\"UCG\" : \"S\",\"CCG\" : \"P\",\"ACG\" : \"T\",\"GCG\" : \"A\",\"UAU\" : \"Y\",\"CAU\" : \"H\",\"AAU\" : \"N\",\"GAU\" : \"D\",\n",
    "          \"UAC\" : \"Y\",\"CAC\" : \"H\",\"AAC\" : \"N\",\"GAC\" : \"D\",\"UAA\" : \"Stop\",\"CAA\" : \"Q\",\"AAA\" : \"K\",\"GAA\" : \"E\",\"UAG\" : \"Stop\",\n",
    "          \"CAG\" : \"Q\",\"AAG\" : \"K\",\"GAG\" : \"E\",\"UGU\" : \"C\",\"CGU\" : \"R\",\"AGU\" : \"S\",\"GGU\" : \"G\",\"UGC\" : \"C\",\"CGC\" : \"R\",\n",
    "          \"AGC\" : \"S\",\"GGC\" : \"G\",\"UGA\" : \"Stop\",\"CGA\" : \"R\",\"AGA\" : \"R\",\"GGA\" : \"G\",\"UGG\" : \"W\",\"CGG\" : \"R\",\"AGG\" : \"R\",\"GGG\" : \"G\"}"
   ]
  },
  {
   "cell_type": "markdown",
   "metadata": {},
   "source": [
    "# Bonus #2: Mystery Gene\n",
    "\n",
    "I have a file of DNA from a mystery gene (`bonus_dna.txt`). Run the gene through your pipeline and then query either the RNA or protein sequence using [`NCBI` BLAST](https://blast.ncbi.nlm.nih.gov/Blast.cgi). (If you have an RNA sequence use `blastn` and if you have a protein sequence use `blastp`.)\n",
    "\n",
    "1. What is the gene? \n",
    "2. What organisim is it from? "
   ]
  },
  {
   "cell_type": "code",
   "execution_count": 3,
   "metadata": {},
   "outputs": [
    {
     "name": "stdout",
     "output_type": "stream",
     "text": [
      "Here are the variable examples\n",
      "5\n",
      "this is an example of a string\n",
      "\n",
      "Here are the conditionals examples\n",
      "x is less than or equal to 5\n",
      "blue\n",
      "\n",
      "Here are the conditionals examples\n",
      "b\n",
      "l\n",
      "u\n",
      "e\n",
      "\n",
      "1\n",
      "3\n",
      "4\n",
      "hello\n",
      "\n",
      "Here are the 'etc' examples\n",
      "5\n",
      "8\n",
      "hello world\n"
     ]
    }
   ],
   "source": [
    "### read in a file \n",
    "# with open(fname) as f: \n",
    "#     data = [x.strip() for x in f.readlines()]\n",
    "# print(data)\n",
    "\n",
    "# VARIABLES \n",
    "## to assign a value to a variable name use `=`\n",
    "print(\"Here are the variable examples\")\n",
    "x = 5 \n",
    "s = \"this is an example of a string\"\n",
    "print(x)\n",
    "print(s)\n",
    "print()\n",
    "\n",
    "# CONDITIONALS \n",
    "## conditionals use words such as `if`, `else` \n",
    "## and comparisons like equal to (`==`), not equal to (`!=`), greater than (`>`), less than (`<`), etc\n",
    "print(\"Here are the conditionals examples\")\n",
    "x = 5\n",
    "s = \"blue\"\n",
    "if x > 5:\n",
    "    print(\"x is greater than 5\")\n",
    "else:\n",
    "    print(\"x is less than or equal to 5\")\n",
    "    \n",
    "if s == \"blue\":\n",
    "    print(s)\n",
    "print()\n",
    "\n",
    "# LOOPS \n",
    "## in `python` there are two types of loops: `for` and `while`\n",
    "## you can use `for` loops to go through strings or lists \n",
    "print(\"Here are the conditionals examples\")\n",
    "s = \"blue\"\n",
    "for letter in s: \n",
    "    print(letter)\n",
    "print()\n",
    "for item in [1, 3, 4, \"hello\"]:\n",
    "    print(item)\n",
    "print()\n",
    "\n",
    "# ETC\n",
    "# if you your variable is a number (integer, float) you can add to the variable using `+=`\n",
    "print(\"Here are the 'etc' examples\")\n",
    "x = 5\n",
    "print(x)\n",
    "x += 3\n",
    "print(x)\n",
    "# you can print multiple variables at once \n",
    "x = \"hello\"\n",
    "y = \"world\"\n",
    "print(x,y)"
   ]
  },
  {
   "cell_type": "code",
   "execution_count": null,
   "metadata": {},
   "outputs": [],
   "source": []
  }
 ],
 "metadata": {
  "kernelspec": {
   "display_name": "Python 3",
   "language": "python",
   "name": "python3"
  },
  "language_info": {
   "codemirror_mode": {
    "name": "ipython",
    "version": 3
   },
   "file_extension": ".py",
   "mimetype": "text/x-python",
   "name": "python",
   "nbconvert_exporter": "python",
   "pygments_lexer": "ipython3",
   "version": "3.6.5"
  },
  "toc": {
   "nav_menu": {},
   "number_sections": false,
   "sideBar": true,
   "skip_h1_title": false,
   "toc_cell": false,
   "toc_position": {},
   "toc_section_display": "block",
   "toc_window_display": true
  }
 },
 "nbformat": 4,
 "nbformat_minor": 2
}
