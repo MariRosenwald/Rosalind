{
 "cells": [
  {
   "cell_type": "markdown",
   "metadata": {},
   "source": [
    "# [Finding DNA motifs](http://rosalind.info/problems/subs/)\n",
    "\n",
    "This notebook contains the code to complete the [Rosalind](rosalind.info) activity [\"Finding a Motif in DNA\"](http://rosalind.info/problems/subs/). \n",
    "\n",
    "*Please add your names here*"
   ]
  },
  {
   "cell_type": "markdown",
   "metadata": {},
   "source": [
    "## Biology background from Rosalind\n",
    "\n",
    "Finding the same interval of DNA in the genomes of two different organisms (often taken from different species) is highly suggestive that the interval has the same function in both organisms.\n",
    "\n",
    "We define a motif as such a commonly shared interval of DNA. A common task in molecular biology is to search an organism's genome for a known motif.\n",
    "\n",
    "The situation is complicated by the fact that genomes are riddled with intervals of DNA that occur multiple times (possibly with slight modifications), called repeats. These repeats occur far more often than would be dictated by random chance, indicating that genomes are anything but random and in fact illustrate that the language of DNA must be very powerful (compare with the frequent reuse of common words in any human language).\n",
    "\n",
    "The most common repeat in humans is the Alu repeat, which is approximately 300 bp long and recurs around a million times throughout every human genome. However, Alu has not been found to serve a positive purpose, and appears in fact to be parasitic: when a new Alu repeat is inserted into a genome, it frequently causes genetic disorders."
   ]
  },
  {
   "cell_type": "markdown",
   "metadata": {},
   "source": [
    "## Problem\n",
    "\n",
    "Given two strings `s` and `t`, `t` is a `substring` of `s` if `t` is contained as a contiguous collection of symbols in `s` (as a result, `t` must be no longer than `s`).\n",
    "\n",
    "The position of a symbol in a string is the total number of symbols found to its left, including itself (e.g., the positions of all occurrences of `U` in `AUGCUUCAGAAAGGUCUUACG` are `2`, `5`, `6`, `15`, `17`, and `18`). The symbol at position `i` of `s` is denoted by `s[i]`.\n",
    "\n",
    "A `substring` of `s` can be represented as `s[j:k]`, where `j` and `k` represent the starting and ending positions of the substring in `s`; for example, if `s = \"AUGCUUCAGAAAGGUCUUACG\"`, then `s[2:5]` = `\"UGCU\"`.\n",
    "\n",
    "The location of a substring `s[j:k]` is its beginning position `j`; note that `t` will have multiple locations in `s` if it occurs more than once as a substring of `s` (see the Sample below).\n",
    "\n",
    "### Given: Two DNA strings s and t (each of length at most 1 kbp).\n",
    "\n",
    "### Return: All locations of t as a substring of s.\n",
    "\n",
    "## Sample (test case) \n",
    "**Given**   \n",
    "`GATATATGCATATACTT`  \n",
    "`ATAT`\n",
    "\n",
    "**Return**   \n",
    "2 4 10"
   ]
  },
  {
   "cell_type": "markdown",
   "metadata": {},
   "source": [
    "## About [`jupyter notebooks`](http://jupyter.org/)\n",
    "\n",
    "Right now you are coding in what is called a [`jupyter notebook`](http://jupyter.org/). [`jupyter notebook`](http://jupyter.org/)s are great because they allow you to see the output of the code right underneath the code itself. \n",
    "\n",
    "### Here are some tips and trips for using [`jupyter notebook`](http://jupyter.org/)s. \n",
    "\n",
    "1. You run a cell by either hitting `cmd-enter` or the \"`>| Run`\" button at the top of the screen. \n",
    "2. There are two types of cells: Code and Markdown. This cell is a Markdown cell because it does not contain code, only plain text. \n",
    "3. You can check what type of cell you have highlighted by looking at the third button from the right above. \n",
    "4. You can what type of cell by clicking on the third button from the right above and choosing either Markdown or Code"
   ]
  },
  {
   "cell_type": "markdown",
   "metadata": {},
   "source": [
    "## Code \n",
    "\n",
    "Put your code below! "
   ]
  },
  {
   "cell_type": "code",
   "execution_count": 1,
   "metadata": {},
   "outputs": [],
   "source": [
    "# this cell is for code. (and this line is a comment)\n",
    "# start building your code using the example above. \n",
    "# when your code is ready, try it out on the \"real\" dataset "
   ]
  },
  {
   "cell_type": "markdown",
   "metadata": {},
   "source": [
    "## Tips and Tricks \n",
    "\n",
    "Below are some hints and syntax examples for reference. "
   ]
  },
  {
   "cell_type": "code",
   "execution_count": 14,
   "metadata": {},
   "outputs": [
    {
     "name": "stdout",
     "output_type": "stream",
     "text": [
      "Here are the variable examples\n",
      "5\n",
      "this is an example of a string\n",
      "\n",
      "Here are the conditionals examples\n",
      "x is less than or equal to 5\n",
      "blue\n",
      "\n",
      "Here are the conditionals examples\n",
      "b\n",
      "l\n",
      "u\n",
      "e\n",
      "\n",
      "1\n",
      "3\n",
      "4\n",
      "hello\n",
      "\n",
      "Here are the 'etc' examples\n",
      "5\n",
      "8\n",
      "hello world\n"
     ]
    }
   ],
   "source": [
    "# VARIABLES \n",
    "## to assign a value to a variable name use `=`\n",
    "print(\"Here are the variable examples\")\n",
    "x = 5 \n",
    "s = \"this is an example of a string\"\n",
    "print(x)\n",
    "print(s)\n",
    "print()\n",
    "\n",
    "# CONDITIONALS \n",
    "## conditionals use words such as `if`, `else` \n",
    "## and comparisons like equal to (`==`), not equal to (`!=`), greater than (`>`), less than (`<`), etc\n",
    "print(\"Here are the conditionals examples\")\n",
    "x = 5\n",
    "s = \"blue\"\n",
    "if x > 5:\n",
    "    print(\"x is greater than 5\")\n",
    "else:\n",
    "    print(\"x is less than or equal to 5\")\n",
    "    \n",
    "if s == \"blue\":\n",
    "    print(s)\n",
    "print()\n",
    "\n",
    "# LOOPS \n",
    "## in `python` there are two types of loops: `for` and `while`\n",
    "## you can use `for` loops to go through strings or lists \n",
    "print(\"Here are the conditionals examples\")\n",
    "s = \"blue\"\n",
    "for letter in s: \n",
    "    print(letter)\n",
    "print()\n",
    "for item in [1, 3, 4, \"hello\"]:\n",
    "    print(item)\n",
    "print()\n",
    "\n",
    "# ETC\n",
    "# if you your variable is a number (integer, float) you can add to the variable using `+=`\n",
    "print(\"Here are the 'etc' examples\")\n",
    "x = 5\n",
    "print(x)\n",
    "x += 3\n",
    "print(x)\n",
    "# you can print multiple variables at once \n",
    "x = \"hello\"\n",
    "y = \"world\"\n",
    "print(x,y)"
   ]
  }
 ],
 "metadata": {
  "kernelspec": {
   "display_name": "Python 3",
   "language": "python",
   "name": "python3"
  },
  "language_info": {
   "codemirror_mode": {
    "name": "ipython",
    "version": 3
   },
   "file_extension": ".py",
   "mimetype": "text/x-python",
   "name": "python",
   "nbconvert_exporter": "python",
   "pygments_lexer": "ipython3",
   "version": "3.6.5"
  },
  "toc": {
   "nav_menu": {},
   "number_sections": false,
   "sideBar": true,
   "skip_h1_title": false,
   "toc_cell": false,
   "toc_position": {},
   "toc_section_display": "block",
   "toc_window_display": false
  }
 },
 "nbformat": 4,
 "nbformat_minor": 2
}
