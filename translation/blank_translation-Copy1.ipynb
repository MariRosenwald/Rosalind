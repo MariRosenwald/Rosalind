{
 "cells": [
  {
   "cell_type": "markdown",
   "metadata": {},
   "source": [
    "# Translation \n",
    "**Translation** is the process of reading the mRNA and generating a protein from it. The cells use tRNAs to \"read\" the RNA and then the ribsome adds the amino acid attached to the tRNA to the growing peptide chain.  \n",
    "\n",
    "It's been awhile since we coded so let's refresh the Core4:  \n",
    "**Variables** are stored values that can change.  \n",
    "**Conditionals** are if/else statements we use to create alternate code \"paths.\"  \n",
    "**Loops** are for/while statements that allow us to repeat code blocks for a certain length of time.  \n",
    "**Functions** are a groups of commands that do (if written well) a discrete task; they're essential for maintaining readability in more complex code/when you need to repeat an action more than twice.  \n",
    "\n",
    "Let's write a script to translate your mRNA into protein. Using the provided codon dictionary and transcription function, use the pseudocode below to write your script to translate the DNA. Stop codons are represented by an asterisk. \n",
    "\n",
    "Questions to consider:\n",
    "1) What do you want the input(s) and the output of your function to be?  \n",
    "2) How will you approach indexing codons (3 bases)?  \n",
    "3) Why do we convert between strings and lists?  "
   ]
  },
  {
   "cell_type": "code",
   "execution_count": 4,
   "metadata": {
    "collapsed": true
   },
   "outputs": [],
   "source": [
    "# Given dictionaries and functions\n",
    "codons = {\"UUU\" : \"F\",\"CUU\" : \"L\",\"AUU\" : \"I\",\"GUU\" : \"V\",\"UUC\" : \"F\",\"CUC\" : \"L\",\"AUC\" : \"I\",\"GUC\" : \"V\",\"UUA\" : \"L\",\n",
    "          \"CUA\" : \"L\",\"AUA\" : \"I\",\"GUA\" : \"V\",\"UUG\" : \"L\",\"CUG\" : \"L\",\"AUG\" : \"M\",\"GUG\" : \"V\",\"UCU\" : \"S\",\"CCU\" : \"P\",\n",
    "          \"ACU\" : \"T\",\"GCU\" : \"A\",\"UCC\" : \"S\",\"CCC\" : \"P\",\"ACC\" : \"T\",\"GCC\" : \"A\",\"UCA\" : \"S\",\"CCA\" : \"P\",\"ACA\" : \"T\",\n",
    "          \"GCA\" : \"A\",\"UCG\" : \"S\",\"CCG\" : \"P\",\"ACG\" : \"T\",\"GCG\" : \"A\",\"UAU\" : \"Y\",\"CAU\" : \"H\",\"AAU\" : \"N\",\"GAU\" : \"D\",\n",
    "          \"UAC\" : \"Y\",\"CAC\" : \"H\",\"AAC\" : \"N\",\"GAC\" : \"D\",\"UAA\" : \"*\",\"CAA\" : \"Q\",\"AAA\" : \"K\",\"GAA\" : \"E\",\"UAG\" : \"*\",\n",
    "          \"CAG\" : \"Q\",\"AAG\" : \"K\",\"GAG\" : \"E\",\"UGU\" : \"C\",\"CGU\" : \"R\",\"AGU\" : \"S\",\"GGU\" : \"G\",\"UGC\" : \"C\",\"CGC\" : \"R\",\n",
    "          \"AGC\" : \"S\",\"GGC\" : \"G\",\"UGA\" : \"*\",\"CGA\" : \"R\",\"AGA\" : \"R\",\"GGA\" : \"G\",\"UGG\" : \"W\",\"CGG\" : \"R\",\"AGG\" : \"R\",\"GGG\" : \"G\"}\n",
    "\n",
    "def transcribe(DNA_str):\n",
    "    # input: DNA string\n",
    "    # output: RNA string\n",
    "    rna_dict = {\"A\":\"A\", \"T\":\"U\",\"G\":\"G\",\"C\":\"C\"}\n",
    "    rna_list = [rna_dict[base] for base in DNA_str] #this is a list comprehension and also an example of using a dictionary\n",
    "    return \"\".join(rna_list) #this is how we join list items into a string\n"
   ]
  },
  {
   "cell_type": "markdown",
   "metadata": {},
   "source": [
    "## Here's some pseudocode to get you started. \n",
    "\n",
    "    set value of your DNA string  \n",
    "    transcribe the DNA to RNA  \n",
    " \n",
    "    translation function \n",
    "       set a list to hold the amino acids\n",
    "       for each codon  \n",
    "          get amino acid value\n",
    "          append to the list\n",
    "       join amino acid list  \n",
    "       (optional: split list by stop codons and take first value)  \n",
    "     \n",
    "    pass RNA to translation function\n",
    "    print peptide\n",
    "\n",
    "*You can also translate until you reach a stop codon and print the result. Why might you run into errors with that approach? Could you fix this with indexing?*  \n",
    "\n",
    "*This algorithm assumes that you have a start codon to begin with. In more complex analyses, you'll want to check for a start codon and be able to find proteins in any frame.*  \n",
    "\n",
    "\n",
    "## Example DNA sequence  \n",
    "ATGTATCCCAGAACTGAGATCAATAGTACCCGTATTAACGGGTGATAGAACACTACTCACATCTCATAG\n",
    "\n",
    "**Goal:** Determine the peptide string that would result from the above \"gene.\""
   ]
  },
  {
   "cell_type": "code",
   "execution_count": 10,
   "metadata": {
    "collapsed": true
   },
   "outputs": [],
   "source": [
    "# Your code here"
   ]
  },
  {
   "cell_type": "markdown",
   "metadata": {},
   "source": [
    "# Bonus: Can you find the longest [ORF](http://rosalind.info/problems/orfr/)?\n",
    "\n",
    "ORF (open reading frames) are sequences between a start codon and a stop codon. These are the parts of the mRNA that code for the protein. In the above example, the start codon was the very fist codon, but this isn't what we see in nature as mRNA contains untranslated regions (UTRs) or what we see in the genome. In the genome, we don't even know what strand the gene is located on!\n",
    "\n",
    "Can you modify your above code to find the protein sequence of the longest ORF?\n",
    "\n",
    "Things to consider:  \n",
    "1) Which codon is a [start codon](https://biologywise.com/start-codon)?    \n",
    "2) How can you test the multiple start codons in the sequence? (*Hint: It may be easiest to modify your index via an additional input variable in your function.*)  \n",
    "3) How will you generate the opposite strand of DNA to test?    \n",
    "4) How will you get the longest string from your list?   \n",
    "\n",
    "## Example DNA sequence    \n",
    "AGCCATGTAGCTAACTCAGGTTACATGGGGATGACCCCGCGACTTGGATTAGAGTCTCTTTTGGAATAAGCCTGAATGATCCGAGTAGCATCTCAG  \n",
    "\n",
    "## Expected Peptide sequence  \n",
    "MLLGSFRLIPKETLIQVAGSSPCNLS  \n",
    "\n",
    "\n",
    "**Goal:** Find the longest ORF in the given DNA sequence. "
   ]
  },
  {
   "cell_type": "code",
   "execution_count": null,
   "metadata": {
    "collapsed": true
   },
   "outputs": [],
   "source": [
    "# Here's a function to reverse compliment the DNA\n",
    "# (You did this last week so you can also use that one. )\n",
    "def RC(DNA_str):\n",
    "    rc_dict = {\"A\":\"T\",\"T\":\"A\",\"C\":\"G\",\"G\":\"C\"}\n",
    "    rc_list = [rc_dict[letter] for letter in DNA_str[::-1]] #generate a list of complemented letters from the reversed string\n",
    "    return(\"\".join(rc_list)) #returns RNA string"
   ]
  },
  {
   "cell_type": "code",
   "execution_count": null,
   "metadata": {
    "collapsed": true
   },
   "outputs": [],
   "source": [
    "# Your code here"
   ]
  }
 ],
 "metadata": {
  "kernelspec": {
   "display_name": "Python 3",
   "language": "python",
   "name": "python3"
  },
  "language_info": {
   "codemirror_mode": {
    "name": "ipython",
    "version": 3
   },
   "file_extension": ".py",
   "mimetype": "text/x-python",
   "name": "python",
   "nbconvert_exporter": "python",
   "pygments_lexer": "ipython3",
   "version": "3.6.3"
  }
 },
 "nbformat": 4,
 "nbformat_minor": 2
}
