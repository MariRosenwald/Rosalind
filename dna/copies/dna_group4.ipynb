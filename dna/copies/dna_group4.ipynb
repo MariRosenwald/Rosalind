{
 "cells": [
  {
   "cell_type": "markdown",
   "metadata": {},
   "source": [
    "# [Counting DNA nucleotides](http://rosalind.info/problems/dna/)\n",
    "\n",
    "This notebook contains the code to complete the [Rosalind](rosalind.info) activity [\"Counting DNA nucleotides\"](http://rosalind.info/problems/dna/). \n",
    "\n",
    "*Please add your names here*"
   ]
  },
  {
   "cell_type": "markdown",
   "metadata": {},
   "source": [
    "## Biology background\n",
    "\n",
    "**DNA** is the hereditary material for humans and most other organisms. **DNA** is made up of four **nucleic acids**: *A*, *C*, *T*, and *G*. \n",
    "\n",
    "When we are studying **DNA**, we care about the *which* nucleotides are present in a segment of **DNA**. \n",
    "Instead of tallying up the nucleotide counts by hand, we can write code to automate this process. \n",
    "\n",
    "You can read more about DNA in eukaryotic cells on the [Rosalind](rosalind.info) site [\"Counting DNA nucleotides\"](http://rosalind.info/problems/dna/)."
   ]
  },
  {
   "cell_type": "markdown",
   "metadata": {},
   "source": [
    "## Problem \n",
    "\n",
    "A `string` is simply an ordered collection of symbols selected from some alphabet and formed into a word; the length of a `string` is the number of symbols that it contains.\n",
    "\n",
    "An example of a length 21 DNA `string` (whose alphabet contains the symbols 'A', 'C', 'G', and 'T') is `ATGCTTCAGAAAGGTCTTACG`\n",
    "\n",
    "*Given*: A DNA `string` `s` of length at most 1000 nt.\n",
    "\n",
    "*Return*: Four `integers` (separated by spaces) counting the respective number of times that the symbols 'A', 'C', 'G', and 'T' occur in `s`.\n",
    "\n",
    "### Example\n",
    "*Given*: `AGCTTTTCATTCTGACTGCAACGGGCAATATGTCTCTGTGTGGATTAAAAAAAGAGTGTCTGATAGCAGC`  \n",
    "*Return*: `20 12 17 21`"
   ]
  },
  {
   "cell_type": "markdown",
   "metadata": {},
   "source": [
    "## About [`jupyter notebooks`](http://jupyter.org/)\n",
    "\n",
    "Right now you are coding in what is called a [`jupyter notebook`](http://jupyter.org/). [`jupyter notebook`](http://jupyter.org/)s are great because they allow you to see the output of the code right underneath the code itself. \n",
    "\n",
    "### Here are some tips and trips for using [`jupyter notebook`](http://jupyter.org/)s. \n",
    "\n",
    "1. You run a cell by either hitting `cmd-enter` or the \"`>| Run`\" button at the top of the screen. \n",
    "2. There are two types of cells: Code and Markdown. This cell is a Markdown cell because it does not contain code, only plain text. \n",
    "3. You can check what type of cell you have highlighted by looking at the third button from the right above. \n",
    "4. You can what type of cell by clicking on the third button from the right above and choosing either Markdown or Code"
   ]
  },
  {
   "cell_type": "markdown",
   "metadata": {},
   "source": [
    "## Code \n",
    "\n",
    "Put your code below! "
   ]
  },
  {
   "cell_type": "code",
   "execution_count": 1,
   "metadata": {},
   "outputs": [],
   "source": [
    "# this cell is for code. (and this line is a comment)\n",
    "# start building your code using the example above. \n",
    "# when your code is ready, try it out on the \"real\" dataset "
   ]
  },
  {
   "cell_type": "markdown",
   "metadata": {},
   "source": [
    "## Tips and Tricks \n",
    "\n",
    "Below are some hints and syntax examples for reference. "
   ]
  },
  {
   "cell_type": "code",
   "execution_count": 14,
   "metadata": {},
   "outputs": [
    {
     "name": "stdout",
     "output_type": "stream",
     "text": [
      "Here are the variable examples\n",
      "5\n",
      "this is an example of a string\n",
      "\n",
      "Here are the conditionals examples\n",
      "x is less than or equal to 5\n",
      "blue\n",
      "\n",
      "Here are the conditionals examples\n",
      "b\n",
      "l\n",
      "u\n",
      "e\n",
      "\n",
      "1\n",
      "3\n",
      "4\n",
      "hello\n",
      "\n",
      "Here are the 'etc' examples\n",
      "5\n",
      "8\n",
      "hello world\n"
     ]
    }
   ],
   "source": [
    "# VARIABLES \n",
    "## to assign a value to a variable name use `=`\n",
    "print(\"Here are the variable examples\")\n",
    "x = 5 \n",
    "s = \"this is an example of a string\"\n",
    "print(x)\n",
    "print(s)\n",
    "print()\n",
    "\n",
    "# CONDITIONALS \n",
    "## conditionals use words such as `if`, `else` \n",
    "## and comparisons like equal to (`==`), not equal to (`!=`), greater than (`>`), less than (`<`), etc\n",
    "print(\"Here are the conditionals examples\")\n",
    "x = 5\n",
    "s = \"blue\"\n",
    "if x > 5:\n",
    "    print(\"x is greater than 5\")\n",
    "else:\n",
    "    print(\"x is less than or equal to 5\")\n",
    "    \n",
    "if s == \"blue\":\n",
    "    print(s)\n",
    "print()\n",
    "\n",
    "# LOOPS \n",
    "## in `python` there are two types of loops: `for` and `while`\n",
    "## you can use `for` loops to go through strings or lists \n",
    "print(\"Here are the conditionals examples\")\n",
    "s = \"blue\"\n",
    "for letter in s: \n",
    "    print(letter)\n",
    "print()\n",
    "for item in [1, 3, 4, \"hello\"]:\n",
    "    print(item)\n",
    "print()\n",
    "\n",
    "# ETC\n",
    "# if you your variable is a number (integer, float) you can add to the variable using `+=`\n",
    "print(\"Here are the 'etc' examples\")\n",
    "x = 5\n",
    "print(x)\n",
    "x += 3\n",
    "print(x)\n",
    "# you can print multiple variables at once \n",
    "x = \"hello\"\n",
    "y = \"world\"\n",
    "print(x,y)"
   ]
  }
 ],
 "metadata": {
  "kernelspec": {
   "display_name": "Python 3",
   "language": "python",
   "name": "python3"
  },
  "language_info": {
   "codemirror_mode": {
    "name": "ipython",
    "version": 3
   },
   "file_extension": ".py",
   "mimetype": "text/x-python",
   "name": "python",
   "nbconvert_exporter": "python",
   "pygments_lexer": "ipython3",
   "version": "3.6.5"
  },
  "toc": {
   "nav_menu": {},
   "number_sections": false,
   "sideBar": true,
   "skip_h1_title": false,
   "toc_cell": false,
   "toc_position": {},
   "toc_section_display": "block",
   "toc_window_display": false
  }
 },
 "nbformat": 4,
 "nbformat_minor": 2
}
