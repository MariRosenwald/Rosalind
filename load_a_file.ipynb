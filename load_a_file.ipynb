{
 "cells": [
  {
   "cell_type": "markdown",
   "metadata": {},
   "source": [
    "# Loading a File via URL\n",
    "\n",
    "This notebook contains instructions for how to load a file into Python using a url. You can view the text file [here](https://gist.githubusercontent.com/reuven/5660728/raw/ff8cfe2d80f15b6569c9cf2644163f00105d8612/test-file.txt). \n",
    "\n",
    "Why do we have blank items in our *list*? How would you modify our list \"data\" to eliminate these?"
   ]
  },
  {
   "cell_type": "code",
   "execution_count": 17,
   "metadata": {},
   "outputs": [
    {
     "name": "stdout",
     "output_type": "stream",
     "text": [
      "Requirement already satisfied: wget in /Users/erhoppe/anaconda3/lib/python3.6/site-packages (3.2)\n",
      "['This is a test file.', '', 'It contains 28 words and 20 different words.', '', 'It also contains 165 characters.', '', 'It also contains 11 lines.', '', 'It is also self-referential.', '', 'Wow!']\n"
     ]
    }
   ],
   "source": [
    "!pip install wget #this may or may not be necessary to use each time\n",
    "import wget #load a program to access URLs\n",
    "\n",
    "url = \"https://gist.githubusercontent.com/reuven/5660728/raw/ff8cfe2d80f15b6569c9cf2644163f00105d8612/test-file.txt\" # insert your text file URL here\n",
    "filename = wget.download(url)\n",
    "\n",
    "# we use \"with open()\" to tell the computer to open the file, read the lines, and then automatically close the file\n",
    "# this helps to prevent bugs (like reading a file you don't mean to because it was left \"open\") and reduce memory usage \n",
    "with open(filename) as file: \n",
    "        # this is a \"list comprehension\", which is essentialy a for loop in shorthand\n",
    "        # you can learn more here: https://www.pythonforbeginners.com/basics/list-comprehensions-in-python\n",
    "        data = [line.strip() for line in file.readlines()] \n",
    "        \n",
    "print(data)"
   ]
  }
 ],
 "metadata": {
  "kernelspec": {
   "display_name": "Python 3",
   "language": "python",
   "name": "python3"
  },
  "language_info": {
   "codemirror_mode": {
    "name": "ipython",
    "version": 3
   },
   "file_extension": ".py",
   "mimetype": "text/x-python",
   "name": "python",
   "nbconvert_exporter": "python",
   "pygments_lexer": "ipython3",
   "version": "3.6.3"
  }
 },
 "nbformat": 4,
 "nbformat_minor": 2
}
